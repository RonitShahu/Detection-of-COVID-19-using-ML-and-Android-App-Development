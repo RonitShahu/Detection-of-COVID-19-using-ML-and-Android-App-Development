{
 "cells": [
  {
   "cell_type": "code",
   "execution_count": null,
   "metadata": {
    "colab": {
     "base_uri": "https://localhost:8080/"
    },
    "executionInfo": {
     "elapsed": 618,
     "status": "ok",
     "timestamp": 1622446408927,
     "user": {
      "displayName": "A-73 Yash Bambal",
      "photoUrl": "",
      "userId": "01328290042991651642"
     },
     "user_tz": -330
    },
    "id": "wZaQ1ZIr-I9k",
    "outputId": "fb6ab9ac-d3a4-49c5-82db-635caa0ae799"
   },
   "outputs": [
    {
     "name": "stdout",
     "output_type": "stream",
     "text": [
      "Drive already mounted at /content/gdrive; to attempt to forcibly remount, call drive.mount(\"/content/gdrive\", force_remount=True).\n"
     ]
    }
   ],
   "source": [
    "from google.colab import drive\n",
    "drive.mount('/content/gdrive')"
   ]
  },
  {
   "cell_type": "code",
   "execution_count": null,
   "metadata": {
    "id": "6z6Uj79J-cG9"
   },
   "outputs": [],
   "source": [
    "# Importing required libraries\n",
    "\n",
    "from keras.preprocessing.image import ImageDataGenerator\n",
    "from keras.models import Sequential\n",
    "from keras.layers import Conv2D, MaxPooling2D\n",
    "from keras.layers import Activation, Dropout, Flatten, Dense\n",
    "from keras import backend as K\n",
    "import numpy as np\n",
    "from keras.preprocessing import image\n",
    "import tensorflow as tf"
   ]
  },
  {
   "cell_type": "code",
   "execution_count": null,
   "metadata": {
    "colab": {
     "base_uri": "https://localhost:8080/"
    },
    "executionInfo": {
     "elapsed": 13,
     "status": "ok",
     "timestamp": 1622446413030,
     "user": {
      "displayName": "A-73 Yash Bambal",
      "photoUrl": "",
      "userId": "01328290042991651642"
     },
     "user_tz": -330
    },
    "id": "ievOCJeY-l8Z",
    "outputId": "12305785-9a52-44ba-b3a3-5b050ca99fe0"
   },
   "outputs": [
    {
     "name": "stdout",
     "output_type": "stream",
     "text": [
      "2.5.0\n",
      "Default GPU Device: /device:GPU:0\n"
     ]
    }
   ],
   "source": [
    "# For checking GPU as runtime type\n",
    "print(tf.__version__)\n",
    "if tf.test.gpu_device_name():\n",
    "    print('Default GPU Device: {}'.format(tf.test.gpu_device_name()))\n",
    "else:\n",
    "    print(\"Please install GPU version of TF\")"
   ]
  },
  {
   "cell_type": "code",
   "execution_count": null,
   "metadata": {
    "id": "l1yw7Rx9-orR"
   },
   "outputs": [],
   "source": [
    "img_width , img_height = 128, 128                         # changing the resolution to 128 X 128 \n",
    "train_data_dir = 'gdrive/My Drive/Covid Model/train/'     # Train dir path\n",
    "validation_data_dir = 'gdrive/My Drive/Covid Model/test/' # Test dir path\n",
    "epochs =50                                                # 50 epochs are used\n",
    "batch_size = 32                                           # Batch size is 32"
   ]
  },
  {
   "cell_type": "code",
   "execution_count": null,
   "metadata": {
    "id": "cGi2tJWH-uMC"
   },
   "outputs": [],
   "source": [
    "# Image data Format \n",
    "\n",
    "if K.image_data_format() == 'channels_first':\n",
    "    input_shape = (3, img_width, img_height)\n",
    "else:\n",
    "    input_shape = (img_width, img_height, 3)"
   ]
  },
  {
   "cell_type": "code",
   "execution_count": null,
   "metadata": {
    "id": "LLbIimQx-wyB"
   },
   "outputs": [],
   "source": [
    "# Data Generator of keras is used for preprocessing\n",
    "train_datagen = ImageDataGenerator(\n",
    "    rescale = 1./ 255,\n",
    "    shear_range = 0.2,\n",
    "    zoom_range = 0.2,\n",
    "    horizontal_flip = True\n",
    "    )"
   ]
  },
  {
   "cell_type": "code",
   "execution_count": null,
   "metadata": {
    "id": "wxXCIxqI-yyJ"
   },
   "outputs": [],
   "source": [
    "test_datagen = ImageDataGenerator(rescale = 1. /255)"
   ]
  },
  {
   "cell_type": "code",
   "execution_count": null,
   "metadata": {
    "colab": {
     "base_uri": "https://localhost:8080/"
    },
    "executionInfo": {
     "elapsed": 1103,
     "status": "ok",
     "timestamp": 1622446422547,
     "user": {
      "displayName": "A-73 Yash Bambal",
      "photoUrl": "",
      "userId": "01328290042991651642"
     },
     "user_tz": -330
    },
    "id": "VGCYnxDn-09Z",
    "outputId": "c5f03603-d6d7-499c-8139-27dc6c7d1ff4"
   },
   "outputs": [
    {
     "name": "stdout",
     "output_type": "stream",
     "text": [
      "Found 10725 images belonging to 3 classes.\n",
      "Found 4647 images belonging to 3 classes.\n"
     ]
    }
   ],
   "source": [
    "# Training and testing data \n",
    "# 3 Classes - COVID-19 , NORMAL , PNEUMONIA\n",
    "# Training data -> 10725\n",
    "# Testing data -> 4647\n",
    "\n",
    "train_generator = train_datagen.flow_from_directory(\n",
    "    train_data_dir,\n",
    "    target_size = (img_width, img_height),\n",
    "    batch_size=batch_size,\n",
    "    class_mode='sparse')\n",
    "\n",
    "validation_generator = test_datagen.flow_from_directory(\n",
    "    validation_data_dir,\n",
    "    target_size = (img_width, img_height),\n",
    "    batch_size=batch_size,\n",
    "    class_mode='sparse'\n",
    ")"
   ]
  },
  {
   "cell_type": "code",
   "execution_count": null,
   "metadata": {
    "colab": {
     "base_uri": "https://localhost:8080/"
    },
    "executionInfo": {
     "elapsed": 543,
     "status": "ok",
     "timestamp": 1622446425516,
     "user": {
      "displayName": "A-73 Yash Bambal",
      "photoUrl": "",
      "userId": "01328290042991651642"
     },
     "user_tz": -330
    },
    "id": "Mmhm0M_j-3ap",
    "outputId": "b65627a5-e9cd-4f3d-dba6-2ecd9f223335"
   },
   "outputs": [
    {
     "name": "stdout",
     "output_type": "stream",
     "text": [
      "Model: \"sequential_1\"\n",
      "_________________________________________________________________\n",
      "Layer (type)                 Output Shape              Param #   \n",
      "=================================================================\n",
      "conv2d_3 (Conv2D)            (None, 124, 124, 96)      7296      \n",
      "_________________________________________________________________\n",
      "max_pooling2d_3 (MaxPooling2 (None, 62, 62, 96)        0         \n",
      "_________________________________________________________________\n",
      "conv2d_4 (Conv2D)            (None, 60, 60, 48)        41520     \n",
      "_________________________________________________________________\n",
      "max_pooling2d_4 (MaxPooling2 (None, 30, 30, 48)        0         \n",
      "_________________________________________________________________\n",
      "conv2d_5 (Conv2D)            (None, 28, 28, 64)        27712     \n",
      "_________________________________________________________________\n",
      "max_pooling2d_5 (MaxPooling2 (None, 14, 14, 64)        0         \n",
      "_________________________________________________________________\n",
      "flatten_1 (Flatten)          (None, 12544)             0         \n",
      "_________________________________________________________________\n",
      "dense_2 (Dense)              (None, 64)                802880    \n",
      "_________________________________________________________________\n",
      "activation_2 (Activation)    (None, 64)                0         \n",
      "_________________________________________________________________\n",
      "dropout_1 (Dropout)          (None, 64)                0         \n",
      "_________________________________________________________________\n",
      "dense_3 (Dense)              (None, 3)                 195       \n",
      "_________________________________________________________________\n",
      "activation_3 (Activation)    (None, 3)                 0         \n",
      "=================================================================\n",
      "Total params: 879,603\n",
      "Trainable params: 879,603\n",
      "Non-trainable params: 0\n",
      "_________________________________________________________________\n"
     ]
    }
   ],
   "source": [
    "\"\"\"\n",
    "Before this model, with exact filters and kernal size. we used keras tuner to getting the number of filters and kernel sizes for individual \n",
    "convolution layers. The sequential model was run for 20 repetition and 2 epochs for each. Through those 20 repetitions the best number for filters and\n",
    "kernal sizes were given as output for the best training parameters and for training modle for best of the accuracy. \n",
    "\n",
    "So for the current model it have 879,603 Trainable params.\n",
    "\n",
    "Before this model was trained we have trained other model for the Dropout(0.5) and found the results we not satisfactory so we switched to Dropout to 0.2 \n",
    "it produced a better model with 95.04% training accuracy and 94.14 testing accuracy.\n",
    "\"\"\"\n",
    "\n",
    "model = Sequential()    # for making stack of layers\n",
    "model.add(Conv2D(96,(5,5), input_shape = input_shape, activation = 'relu')) # 96 are filters and 5X5 is kernel size for convoltuion\n",
    "model.add(MaxPooling2D(pool_size = (2,2)))   # in every 2x2 matrix it select max value to reduce image size\n",
    "\n",
    "model.add(Conv2D(48,(3,3), activation = 'relu'))  # 48 filters and 3X3 kernel size\n",
    "model.add(MaxPooling2D(pool_size = (2,2)))\n",
    "\n",
    "model.add(Conv2D(64,(3,3), activation = 'relu'))\n",
    "model.add(MaxPooling2D(pool_size = (2,2)))\n",
    "\n",
    "model.add(Flatten()) #‘unstack’ all this multidimensional tensor into a very long 1D tensor (helpful for dense func)\n",
    "model.add(Dense(64)) # output size is 64  activation(np.dot(input, kernel)+bias )\n",
    "model.add(Activation('relu'))\n",
    "model.add(Dropout(0.2)) # used to tackle overfitting\n",
    "model.add(Dense(3))\n",
    "model.add(Activation('softmax'))\n",
    "\n",
    "\n",
    "model.summary()"
   ]
  },
  {
   "cell_type": "code",
   "execution_count": null,
   "metadata": {
    "colab": {
     "base_uri": "https://localhost:8080/"
    },
    "executionInfo": {
     "elapsed": 728108,
     "status": "ok",
     "timestamp": 1622456467909,
     "user": {
      "displayName": "A-73 Yash Bambal",
      "photoUrl": "",
      "userId": "01328290042991651642"
     },
     "user_tz": -330
    },
    "id": "fNbh0s7SASeF",
    "outputId": "64b96c0c-2838-4914-e5b4-69d138d57c52"
   },
   "outputs": [
    {
     "name": "stderr",
     "output_type": "stream",
     "text": [
      "/usr/local/lib/python3.7/dist-packages/keras/engine/training.py:1915: UserWarning: `Model.fit_generator` is deprecated and will be removed in a future version. Please use `Model.fit`, which supports generators.\n",
      "  warnings.warn('`Model.fit_generator` is deprecated and '\n"
     ]
    },
    {
     "name": "stdout",
     "output_type": "stream",
     "text": [
      "Epoch 1/50\n",
      "335/335 [==============================] - 1093s 3s/step - loss: 0.7899 - accuracy: 0.6192 - val_loss: 0.5099 - val_accuracy: 0.7901\n",
      "Epoch 2/50\n",
      "335/335 [==============================] - 169s 504ms/step - loss: 0.5337 - accuracy: 0.7810 - val_loss: 0.4036 - val_accuracy: 0.8373\n",
      "Epoch 3/50\n",
      "335/335 [==============================] - 168s 503ms/step - loss: 0.4916 - accuracy: 0.8030 - val_loss: 0.4200 - val_accuracy: 0.8364\n",
      "Epoch 4/50\n",
      "335/335 [==============================] - 169s 503ms/step - loss: 0.4290 - accuracy: 0.8248 - val_loss: 0.3342 - val_accuracy: 0.8741\n",
      "Epoch 5/50\n",
      "335/335 [==============================] - 168s 503ms/step - loss: 0.4097 - accuracy: 0.8403 - val_loss: 0.3368 - val_accuracy: 0.8709\n",
      "Epoch 6/50\n",
      "335/335 [==============================] - 168s 503ms/step - loss: 0.3670 - accuracy: 0.8507 - val_loss: 0.3155 - val_accuracy: 0.8776\n",
      "Epoch 7/50\n",
      "335/335 [==============================] - 168s 502ms/step - loss: 0.3617 - accuracy: 0.8555 - val_loss: 0.3240 - val_accuracy: 0.8823\n",
      "Epoch 8/50\n",
      "335/335 [==============================] - 169s 505ms/step - loss: 0.3327 - accuracy: 0.8681 - val_loss: 0.2659 - val_accuracy: 0.9080\n",
      "Epoch 9/50\n",
      "335/335 [==============================] - 169s 505ms/step - loss: 0.3117 - accuracy: 0.8774 - val_loss: 0.2831 - val_accuracy: 0.8922\n",
      "Epoch 10/50\n",
      "335/335 [==============================] - 169s 504ms/step - loss: 0.3018 - accuracy: 0.8785 - val_loss: 0.2657 - val_accuracy: 0.9047\n",
      "Epoch 11/50\n",
      "335/335 [==============================] - 169s 505ms/step - loss: 0.2967 - accuracy: 0.8929 - val_loss: 0.2655 - val_accuracy: 0.8996\n",
      "Epoch 12/50\n",
      "335/335 [==============================] - 170s 508ms/step - loss: 0.2816 - accuracy: 0.8899 - val_loss: 0.2836 - val_accuracy: 0.8983\n",
      "Epoch 13/50\n",
      "335/335 [==============================] - 171s 510ms/step - loss: 0.2835 - accuracy: 0.8931 - val_loss: 0.2792 - val_accuracy: 0.8912\n",
      "Epoch 14/50\n",
      "335/335 [==============================] - 170s 507ms/step - loss: 0.2855 - accuracy: 0.8908 - val_loss: 0.2290 - val_accuracy: 0.9177\n",
      "Epoch 15/50\n",
      "335/335 [==============================] - 170s 508ms/step - loss: 0.2693 - accuracy: 0.9015 - val_loss: 0.2533 - val_accuracy: 0.9110\n",
      "Epoch 16/50\n",
      "335/335 [==============================] - 171s 511ms/step - loss: 0.2493 - accuracy: 0.9093 - val_loss: 0.2150 - val_accuracy: 0.9246\n",
      "Epoch 17/50\n",
      "335/335 [==============================] - 173s 515ms/step - loss: 0.2448 - accuracy: 0.9084 - val_loss: 0.2527 - val_accuracy: 0.9129\n",
      "Epoch 18/50\n",
      "335/335 [==============================] - 172s 513ms/step - loss: 0.2495 - accuracy: 0.9106 - val_loss: 0.2100 - val_accuracy: 0.9343\n",
      "Epoch 19/50\n",
      "335/335 [==============================] - 172s 515ms/step - loss: 0.2320 - accuracy: 0.9158 - val_loss: 0.2023 - val_accuracy: 0.9373\n",
      "Epoch 20/50\n",
      "335/335 [==============================] - 176s 525ms/step - loss: 0.2361 - accuracy: 0.9134 - val_loss: 0.2446 - val_accuracy: 0.9153\n",
      "Epoch 21/50\n",
      "335/335 [==============================] - 173s 518ms/step - loss: 0.2391 - accuracy: 0.9135 - val_loss: 0.2130 - val_accuracy: 0.9267\n",
      "Epoch 22/50\n",
      "335/335 [==============================] - 172s 513ms/step - loss: 0.2061 - accuracy: 0.9247 - val_loss: 0.1982 - val_accuracy: 0.9386\n",
      "Epoch 23/50\n",
      "335/335 [==============================] - 172s 514ms/step - loss: 0.2084 - accuracy: 0.9255 - val_loss: 0.1947 - val_accuracy: 0.9394\n",
      "Epoch 24/50\n",
      "335/335 [==============================] - 173s 515ms/step - loss: 0.2006 - accuracy: 0.9265 - val_loss: 0.2252 - val_accuracy: 0.9237\n",
      "Epoch 25/50\n",
      "335/335 [==============================] - 173s 516ms/step - loss: 0.2145 - accuracy: 0.9242 - val_loss: 0.1943 - val_accuracy: 0.9388\n",
      "Epoch 26/50\n",
      "335/335 [==============================] - 174s 520ms/step - loss: 0.2072 - accuracy: 0.9309 - val_loss: 0.1786 - val_accuracy: 0.9418\n",
      "Epoch 27/50\n",
      "335/335 [==============================] - 174s 520ms/step - loss: 0.1980 - accuracy: 0.9283 - val_loss: 0.2029 - val_accuracy: 0.9347\n",
      "Epoch 28/50\n",
      "335/335 [==============================] - 172s 515ms/step - loss: 0.1737 - accuracy: 0.9407 - val_loss: 0.1949 - val_accuracy: 0.9379\n",
      "Epoch 29/50\n",
      "335/335 [==============================] - 172s 514ms/step - loss: 0.1916 - accuracy: 0.9331 - val_loss: 0.1922 - val_accuracy: 0.9416\n",
      "Epoch 30/50\n",
      "335/335 [==============================] - 174s 520ms/step - loss: 0.1802 - accuracy: 0.9321 - val_loss: 0.1990 - val_accuracy: 0.9362\n",
      "Epoch 31/50\n",
      "335/335 [==============================] - 173s 517ms/step - loss: 0.1794 - accuracy: 0.9352 - val_loss: 0.1925 - val_accuracy: 0.9414\n",
      "Epoch 32/50\n",
      "335/335 [==============================] - 172s 514ms/step - loss: 0.1732 - accuracy: 0.9399 - val_loss: 0.1827 - val_accuracy: 0.9401\n",
      "Epoch 33/50\n",
      "335/335 [==============================] - 172s 515ms/step - loss: 0.1654 - accuracy: 0.9404 - val_loss: 0.1974 - val_accuracy: 0.9332\n",
      "Epoch 34/50\n",
      "335/335 [==============================] - 172s 513ms/step - loss: 0.1735 - accuracy: 0.9403 - val_loss: 0.1972 - val_accuracy: 0.9381\n",
      "Epoch 35/50\n",
      "335/335 [==============================] - 171s 511ms/step - loss: 0.1771 - accuracy: 0.9339 - val_loss: 0.1865 - val_accuracy: 0.9407\n",
      "Epoch 36/50\n",
      "335/335 [==============================] - 171s 511ms/step - loss: 0.1592 - accuracy: 0.9420 - val_loss: 0.1898 - val_accuracy: 0.9366\n",
      "Epoch 37/50\n",
      "335/335 [==============================] - 170s 507ms/step - loss: 0.1674 - accuracy: 0.9424 - val_loss: 0.1835 - val_accuracy: 0.9455\n",
      "Epoch 38/50\n",
      "335/335 [==============================] - 170s 506ms/step - loss: 0.1722 - accuracy: 0.9395 - val_loss: 0.1947 - val_accuracy: 0.9444\n",
      "Epoch 39/50\n",
      "335/335 [==============================] - 170s 508ms/step - loss: 0.1473 - accuracy: 0.9487 - val_loss: 0.1923 - val_accuracy: 0.9397\n",
      "Epoch 40/50\n",
      "335/335 [==============================] - 172s 514ms/step - loss: 0.1471 - accuracy: 0.9474 - val_loss: 0.1793 - val_accuracy: 0.9438\n",
      "Epoch 41/50\n",
      "335/335 [==============================] - 173s 517ms/step - loss: 0.1673 - accuracy: 0.9433 - val_loss: 0.1949 - val_accuracy: 0.9448\n",
      "Epoch 42/50\n",
      "335/335 [==============================] - 172s 515ms/step - loss: 0.1482 - accuracy: 0.9487 - val_loss: 0.1849 - val_accuracy: 0.9466\n",
      "Epoch 43/50\n",
      "335/335 [==============================] - 170s 508ms/step - loss: 0.1437 - accuracy: 0.9493 - val_loss: 0.1857 - val_accuracy: 0.9476\n",
      "Epoch 44/50\n",
      "335/335 [==============================] - 170s 508ms/step - loss: 0.1374 - accuracy: 0.9499 - val_loss: 0.1774 - val_accuracy: 0.9450\n",
      "Epoch 45/50\n",
      "335/335 [==============================] - 170s 508ms/step - loss: 0.1485 - accuracy: 0.9505 - val_loss: 0.1863 - val_accuracy: 0.9506\n",
      "Epoch 46/50\n",
      "335/335 [==============================] - 171s 509ms/step - loss: 0.1426 - accuracy: 0.9520 - val_loss: 0.1779 - val_accuracy: 0.9481\n",
      "Epoch 47/50\n",
      "335/335 [==============================] - 171s 510ms/step - loss: 0.1381 - accuracy: 0.9479 - val_loss: 0.2142 - val_accuracy: 0.9405\n",
      "Epoch 48/50\n",
      "335/335 [==============================] - 171s 511ms/step - loss: 0.1511 - accuracy: 0.9488 - val_loss: 0.1945 - val_accuracy: 0.9457\n",
      "Epoch 49/50\n",
      "335/335 [==============================] - 169s 506ms/step - loss: 0.1409 - accuracy: 0.9511 - val_loss: 0.1924 - val_accuracy: 0.9487\n",
      "Epoch 50/50\n",
      "335/335 [==============================] - 169s 506ms/step - loss: 0.1413 - accuracy: 0.9504 - val_loss: 0.1971 - val_accuracy: 0.9414\n"
     ]
    },
    {
     "data": {
      "text/plain": [
       "<keras.callbacks.History at 0x7f7d47c39990>"
      ]
     },
     "execution_count": 54,
     "metadata": {
      "tags": []
     },
     "output_type": "execute_result"
    }
   ],
   "source": [
    "model.compile(loss = 'sparse_categorical_crossentropy',\n",
    "             optimizer='adam',\n",
    "             metrics=['accuracy'])\n",
    "\n",
    "\n",
    "model.fit_generator(\n",
    "    train_generator,\n",
    "    steps_per_epoch= 10725 // batch_size,\n",
    "    epochs= epochs,\n",
    "    validation_data=validation_generator,\n",
    "    validation_steps= 4647 // batch_size )"
   ]
  },
  {
   "cell_type": "code",
   "execution_count": null,
   "metadata": {
    "colab": {
     "base_uri": "https://localhost:8080/",
     "height": 300
    },
    "executionInfo": {
     "elapsed": 1129,
     "status": "ok",
     "timestamp": 1622456585828,
     "user": {
      "displayName": "A-73 Yash Bambal",
      "photoUrl": "",
      "userId": "01328290042991651642"
     },
     "user_tz": -330
    },
    "id": "ZXmPTWhUCPjh",
    "outputId": "235c138c-9d05-4c3a-9f4b-cced740821ac"
   },
   "outputs": [
    {
     "data": {
      "text/plain": [
       "<matplotlib.legend.Legend at 0x7f7d468d20d0>"
      ]
     },
     "execution_count": 55,
     "metadata": {
      "tags": []
     },
     "output_type": "execute_result"
    },
    {
     "data": {
      "image/png": "[encoded data removed]",
      "text/plain": [
       "<Figure size 432x288 with 1 Axes>"
      ]
     },
     "metadata": {
      "needs_background": "light",
      "tags": []
     },
     "output_type": "display_data"
    }
   ],
   "source": [
    "import matplotlib.pyplot as plt\n",
    "plt.plot(model.history.history['loss'])\n",
    "plt.plot(model.history.history['val_loss'])\n",
    "plt.ylabel('loss')\n",
    "plt.xlabel('epoch')\n",
    "plt.legend(['train','test'],loc='upper right')"
   ]
  },
  {
   "cell_type": "code",
   "execution_count": null,
   "metadata": {
    "colab": {
     "base_uri": "https://localhost:8080/",
     "height": 296
    },
    "executionInfo": {
     "elapsed": 781,
     "status": "ok",
     "timestamp": 1622456592244,
     "user": {
      "displayName": "A-73 Yash Bambal",
      "photoUrl": "",
      "userId": "01328290042991651642"
     },
     "user_tz": -330
    },
    "id": "9jqHZAUvCSpm",
    "outputId": "08e95f6b-7d11-40be-ebed-00aafada25e7"
   },
   "outputs": [
    {
     "data": {
      "text/plain": [
       "<matplotlib.legend.Legend at 0x7f7d447e4450>"
      ]
     },
     "execution_count": 56,
     "metadata": {
      "tags": []
     },
     "output_type": "execute_result"
    },
    {
     "data": {
      "image/png": "[encoded data removed]",
      "text/plain": [
       "<Figure size 432x288 with 1 Axes>"
      ]
     },
     "metadata": {
      "needs_background": "light",
      "tags": []
     },
     "output_type": "display_data"
    }
   ],
   "source": [
    "plt.plot(model.history.history['accuracy'])\n",
    "plt.plot(model.history.history['val_accuracy'])\n",
    "plt.ylabel('accuracy')\n",
    "plt.xlabel('epoch')\n",
    "plt.legend(['train','test'],loc='lower right')"
   ]
  },
  {
   "cell_type": "code",
   "execution_count": null,
   "metadata": {
    "id": "baFbq068AVWL"
   },
   "outputs": [],
   "source": [
    "model.save_weights('gdrive/My Drive/Covid Model/31May/M5_31May_weighted.h5')\n",
    "model.save('gdrive/My Drive/Covid Model/31May/M5_31May_model.h5')"
   ]
  },
  {
   "cell_type": "code",
   "execution_count": null,
   "metadata": {
    "id": "VsWDZ8ob_I_v"
   },
   "outputs": [],
   "source": []
  }
 ],
 "metadata": {
  "accelerator": "GPU",
  "colab": {
   "authorship_tag": "ABX9TyP4aC7AGZQZ8eb+ja9pZR7I",
   "collapsed_sections": [],
   "name": "5_31May.ipynb",
   "provenance": []
  },
  "kernelspec": {
   "display_name": "Python 3",
   "language": "python",
   "name": "python3"
  },
  "language_info": {
   "codemirror_mode": {
    "name": "ipython",
    "version": 3
   },
   "file_extension": ".py",
   "mimetype": "text/x-python",
   "name": "python",
   "nbconvert_exporter": "python",
   "pygments_lexer": "ipython3",
   "version": "3.7.9"
  }
 },
 "nbformat": 4,
 "nbformat_minor": 1
}
